{
  "nbformat": 4,
  "nbformat_minor": 0,
  "metadata": {
    "colab": {
      "name": "AICP_RSS.ipynb의 사본",
      "provenance": [],
      "authorship_tag": "ABX9TyOqACTuoGZxVbfTQu5+IZUA",
      "include_colab_link": true
    },
    "kernelspec": {
      "name": "python3",
      "display_name": "Python 3"
    },
    "language_info": {
      "name": "python"
    },
    "widgets": {
      "application/vnd.jupyter.widget-state+json": {
        "1c57ec1d0cf04e4f8214bd0e49f3c6e4": {
          "model_module": "@jupyter-widgets/controls",
          "model_name": "HBoxModel",
          "state": {
            "_view_name": "HBoxView",
            "_dom_classes": [],
            "_model_name": "HBoxModel",
            "_view_module": "@jupyter-widgets/controls",
            "_model_module_version": "1.5.0",
            "_view_count": null,
            "_view_module_version": "1.5.0",
            "box_style": "",
            "layout": "IPY_MODEL_8d1fb8c502314ffe9f712c7e7abd7b57",
            "_model_module": "@jupyter-widgets/controls",
            "children": [
              "IPY_MODEL_e0c5ddc0b578444bbe995032f1f51c72",
              "IPY_MODEL_43bc5cd5d1f24ed59b9066e6e23c0da9"
            ]
          }
        },
        "8d1fb8c502314ffe9f712c7e7abd7b57": {
          "model_module": "@jupyter-widgets/base",
          "model_name": "LayoutModel",
          "state": {
            "_view_name": "LayoutView",
            "grid_template_rows": null,
            "right": null,
            "justify_content": null,
            "_view_module": "@jupyter-widgets/base",
            "overflow": null,
            "_model_module_version": "1.2.0",
            "_view_count": null,
            "flex_flow": null,
            "width": null,
            "min_width": null,
            "border": null,
            "align_items": null,
            "bottom": null,
            "_model_module": "@jupyter-widgets/base",
            "top": null,
            "grid_column": null,
            "overflow_y": null,
            "overflow_x": null,
            "grid_auto_flow": null,
            "grid_area": null,
            "grid_template_columns": null,
            "flex": null,
            "_model_name": "LayoutModel",
            "justify_items": null,
            "grid_row": null,
            "max_height": null,
            "align_content": null,
            "visibility": null,
            "align_self": null,
            "height": null,
            "min_height": null,
            "padding": null,
            "grid_auto_rows": null,
            "grid_gap": null,
            "max_width": null,
            "order": null,
            "_view_module_version": "1.2.0",
            "grid_template_areas": null,
            "object_position": null,
            "object_fit": null,
            "grid_auto_columns": null,
            "margin": null,
            "display": null,
            "left": null
          }
        },
        "e0c5ddc0b578444bbe995032f1f51c72": {
          "model_module": "@jupyter-widgets/controls",
          "model_name": "FloatProgressModel",
          "state": {
            "_view_name": "ProgressView",
            "style": "IPY_MODEL_891eeb9b74534c9396a408f405b7ebef",
            "_dom_classes": [],
            "description": "100%",
            "_model_name": "FloatProgressModel",
            "bar_style": "success",
            "max": 188,
            "_view_module": "@jupyter-widgets/controls",
            "_model_module_version": "1.5.0",
            "value": 188,
            "_view_count": null,
            "_view_module_version": "1.5.0",
            "orientation": "horizontal",
            "min": 0,
            "description_tooltip": null,
            "_model_module": "@jupyter-widgets/controls",
            "layout": "IPY_MODEL_f8afca82d07f470aa851e98370835fab"
          }
        },
        "43bc5cd5d1f24ed59b9066e6e23c0da9": {
          "model_module": "@jupyter-widgets/controls",
          "model_name": "HTMLModel",
          "state": {
            "_view_name": "HTMLView",
            "style": "IPY_MODEL_40ba1ede64dd4aecbaa83af76f254fb3",
            "_dom_classes": [],
            "description": "",
            "_model_name": "HTMLModel",
            "placeholder": "​",
            "_view_module": "@jupyter-widgets/controls",
            "_model_module_version": "1.5.0",
            "value": " 188/188 [03:50&lt;00:00,  1.22s/it]",
            "_view_count": null,
            "_view_module_version": "1.5.0",
            "description_tooltip": null,
            "_model_module": "@jupyter-widgets/controls",
            "layout": "IPY_MODEL_92042a0b3dd644e08933b3622d7c7776"
          }
        },
        "891eeb9b74534c9396a408f405b7ebef": {
          "model_module": "@jupyter-widgets/controls",
          "model_name": "ProgressStyleModel",
          "state": {
            "_view_name": "StyleView",
            "_model_name": "ProgressStyleModel",
            "description_width": "initial",
            "_view_module": "@jupyter-widgets/base",
            "_model_module_version": "1.5.0",
            "_view_count": null,
            "_view_module_version": "1.2.0",
            "bar_color": null,
            "_model_module": "@jupyter-widgets/controls"
          }
        },
        "f8afca82d07f470aa851e98370835fab": {
          "model_module": "@jupyter-widgets/base",
          "model_name": "LayoutModel",
          "state": {
            "_view_name": "LayoutView",
            "grid_template_rows": null,
            "right": null,
            "justify_content": null,
            "_view_module": "@jupyter-widgets/base",
            "overflow": null,
            "_model_module_version": "1.2.0",
            "_view_count": null,
            "flex_flow": null,
            "width": null,
            "min_width": null,
            "border": null,
            "align_items": null,
            "bottom": null,
            "_model_module": "@jupyter-widgets/base",
            "top": null,
            "grid_column": null,
            "overflow_y": null,
            "overflow_x": null,
            "grid_auto_flow": null,
            "grid_area": null,
            "grid_template_columns": null,
            "flex": null,
            "_model_name": "LayoutModel",
            "justify_items": null,
            "grid_row": null,
            "max_height": null,
            "align_content": null,
            "visibility": null,
            "align_self": null,
            "height": null,
            "min_height": null,
            "padding": null,
            "grid_auto_rows": null,
            "grid_gap": null,
            "max_width": null,
            "order": null,
            "_view_module_version": "1.2.0",
            "grid_template_areas": null,
            "object_position": null,
            "object_fit": null,
            "grid_auto_columns": null,
            "margin": null,
            "display": null,
            "left": null
          }
        },
        "40ba1ede64dd4aecbaa83af76f254fb3": {
          "model_module": "@jupyter-widgets/controls",
          "model_name": "DescriptionStyleModel",
          "state": {
            "_view_name": "StyleView",
            "_model_name": "DescriptionStyleModel",
            "description_width": "",
            "_view_module": "@jupyter-widgets/base",
            "_model_module_version": "1.5.0",
            "_view_count": null,
            "_view_module_version": "1.2.0",
            "_model_module": "@jupyter-widgets/controls"
          }
        },
        "92042a0b3dd644e08933b3622d7c7776": {
          "model_module": "@jupyter-widgets/base",
          "model_name": "LayoutModel",
          "state": {
            "_view_name": "LayoutView",
            "grid_template_rows": null,
            "right": null,
            "justify_content": null,
            "_view_module": "@jupyter-widgets/base",
            "overflow": null,
            "_model_module_version": "1.2.0",
            "_view_count": null,
            "flex_flow": null,
            "width": null,
            "min_width": null,
            "border": null,
            "align_items": null,
            "bottom": null,
            "_model_module": "@jupyter-widgets/base",
            "top": null,
            "grid_column": null,
            "overflow_y": null,
            "overflow_x": null,
            "grid_auto_flow": null,
            "grid_area": null,
            "grid_template_columns": null,
            "flex": null,
            "_model_name": "LayoutModel",
            "justify_items": null,
            "grid_row": null,
            "max_height": null,
            "align_content": null,
            "visibility": null,
            "align_self": null,
            "height": null,
            "min_height": null,
            "padding": null,
            "grid_auto_rows": null,
            "grid_gap": null,
            "max_width": null,
            "order": null,
            "_view_module_version": "1.2.0",
            "grid_template_areas": null,
            "object_position": null,
            "object_fit": null,
            "grid_auto_columns": null,
            "margin": null,
            "display": null,
            "left": null
          }
        },
        "e84c6d006b8f4d908d6be98367065d68": {
          "model_module": "@jupyter-widgets/controls",
          "model_name": "HBoxModel",
          "state": {
            "_view_name": "HBoxView",
            "_dom_classes": [],
            "_model_name": "HBoxModel",
            "_view_module": "@jupyter-widgets/controls",
            "_model_module_version": "1.5.0",
            "_view_count": null,
            "_view_module_version": "1.5.0",
            "box_style": "",
            "layout": "IPY_MODEL_38db20b68e5f478e814942f2974df44f",
            "_model_module": "@jupyter-widgets/controls",
            "children": [
              "IPY_MODEL_6fcbdfc1f45546f0862dd988e4f0f67c",
              "IPY_MODEL_10a64725746d484dbdcc116610f2e0a8"
            ]
          }
        },
        "38db20b68e5f478e814942f2974df44f": {
          "model_module": "@jupyter-widgets/base",
          "model_name": "LayoutModel",
          "state": {
            "_view_name": "LayoutView",
            "grid_template_rows": null,
            "right": null,
            "justify_content": null,
            "_view_module": "@jupyter-widgets/base",
            "overflow": null,
            "_model_module_version": "1.2.0",
            "_view_count": null,
            "flex_flow": null,
            "width": null,
            "min_width": null,
            "border": null,
            "align_items": null,
            "bottom": null,
            "_model_module": "@jupyter-widgets/base",
            "top": null,
            "grid_column": null,
            "overflow_y": null,
            "overflow_x": null,
            "grid_auto_flow": null,
            "grid_area": null,
            "grid_template_columns": null,
            "flex": null,
            "_model_name": "LayoutModel",
            "justify_items": null,
            "grid_row": null,
            "max_height": null,
            "align_content": null,
            "visibility": null,
            "align_self": null,
            "height": null,
            "min_height": null,
            "padding": null,
            "grid_auto_rows": null,
            "grid_gap": null,
            "max_width": null,
            "order": null,
            "_view_module_version": "1.2.0",
            "grid_template_areas": null,
            "object_position": null,
            "object_fit": null,
            "grid_auto_columns": null,
            "margin": null,
            "display": null,
            "left": null
          }
        },
        "6fcbdfc1f45546f0862dd988e4f0f67c": {
          "model_module": "@jupyter-widgets/controls",
          "model_name": "FloatProgressModel",
          "state": {
            "_view_name": "ProgressView",
            "style": "IPY_MODEL_c4f2ee1963c64196bc0299730e08a078",
            "_dom_classes": [],
            "description": "100%",
            "_model_name": "FloatProgressModel",
            "bar_style": "success",
            "max": 3176,
            "_view_module": "@jupyter-widgets/controls",
            "_model_module_version": "1.5.0",
            "value": 3176,
            "_view_count": null,
            "_view_module_version": "1.5.0",
            "orientation": "horizontal",
            "min": 0,
            "description_tooltip": null,
            "_model_module": "@jupyter-widgets/controls",
            "layout": "IPY_MODEL_0482fa11bd084711b45a437d925f68d4"
          }
        },
        "10a64725746d484dbdcc116610f2e0a8": {
          "model_module": "@jupyter-widgets/controls",
          "model_name": "HTMLModel",
          "state": {
            "_view_name": "HTMLView",
            "style": "IPY_MODEL_b1007662a40f401cb6a2b1bae474b6d1",
            "_dom_classes": [],
            "description": "",
            "_model_name": "HTMLModel",
            "placeholder": "​",
            "_view_module": "@jupyter-widgets/controls",
            "_model_module_version": "1.5.0",
            "value": " 3176/3176 [1:23:55&lt;00:00,  1.59s/it]",
            "_view_count": null,
            "_view_module_version": "1.5.0",
            "description_tooltip": null,
            "_model_module": "@jupyter-widgets/controls",
            "layout": "IPY_MODEL_909b339e7e4443f3ab0500ff181038de"
          }
        },
        "c4f2ee1963c64196bc0299730e08a078": {
          "model_module": "@jupyter-widgets/controls",
          "model_name": "ProgressStyleModel",
          "state": {
            "_view_name": "StyleView",
            "_model_name": "ProgressStyleModel",
            "description_width": "initial",
            "_view_module": "@jupyter-widgets/base",
            "_model_module_version": "1.5.0",
            "_view_count": null,
            "_view_module_version": "1.2.0",
            "bar_color": null,
            "_model_module": "@jupyter-widgets/controls"
          }
        },
        "0482fa11bd084711b45a437d925f68d4": {
          "model_module": "@jupyter-widgets/base",
          "model_name": "LayoutModel",
          "state": {
            "_view_name": "LayoutView",
            "grid_template_rows": null,
            "right": null,
            "justify_content": null,
            "_view_module": "@jupyter-widgets/base",
            "overflow": null,
            "_model_module_version": "1.2.0",
            "_view_count": null,
            "flex_flow": null,
            "width": null,
            "min_width": null,
            "border": null,
            "align_items": null,
            "bottom": null,
            "_model_module": "@jupyter-widgets/base",
            "top": null,
            "grid_column": null,
            "overflow_y": null,
            "overflow_x": null,
            "grid_auto_flow": null,
            "grid_area": null,
            "grid_template_columns": null,
            "flex": null,
            "_model_name": "LayoutModel",
            "justify_items": null,
            "grid_row": null,
            "max_height": null,
            "align_content": null,
            "visibility": null,
            "align_self": null,
            "height": null,
            "min_height": null,
            "padding": null,
            "grid_auto_rows": null,
            "grid_gap": null,
            "max_width": null,
            "order": null,
            "_view_module_version": "1.2.0",
            "grid_template_areas": null,
            "object_position": null,
            "object_fit": null,
            "grid_auto_columns": null,
            "margin": null,
            "display": null,
            "left": null
          }
        },
        "b1007662a40f401cb6a2b1bae474b6d1": {
          "model_module": "@jupyter-widgets/controls",
          "model_name": "DescriptionStyleModel",
          "state": {
            "_view_name": "StyleView",
            "_model_name": "DescriptionStyleModel",
            "description_width": "",
            "_view_module": "@jupyter-widgets/base",
            "_model_module_version": "1.5.0",
            "_view_count": null,
            "_view_module_version": "1.2.0",
            "_model_module": "@jupyter-widgets/controls"
          }
        },
        "909b339e7e4443f3ab0500ff181038de": {
          "model_module": "@jupyter-widgets/base",
          "model_name": "LayoutModel",
          "state": {
            "_view_name": "LayoutView",
            "grid_template_rows": null,
            "right": null,
            "justify_content": null,
            "_view_module": "@jupyter-widgets/base",
            "overflow": null,
            "_model_module_version": "1.2.0",
            "_view_count": null,
            "flex_flow": null,
            "width": null,
            "min_width": null,
            "border": null,
            "align_items": null,
            "bottom": null,
            "_model_module": "@jupyter-widgets/base",
            "top": null,
            "grid_column": null,
            "overflow_y": null,
            "overflow_x": null,
            "grid_auto_flow": null,
            "grid_area": null,
            "grid_template_columns": null,
            "flex": null,
            "_model_name": "LayoutModel",
            "justify_items": null,
            "grid_row": null,
            "max_height": null,
            "align_content": null,
            "visibility": null,
            "align_self": null,
            "height": null,
            "min_height": null,
            "padding": null,
            "grid_auto_rows": null,
            "grid_gap": null,
            "max_width": null,
            "order": null,
            "_view_module_version": "1.2.0",
            "grid_template_areas": null,
            "object_position": null,
            "object_fit": null,
            "grid_auto_columns": null,
            "margin": null,
            "display": null,
            "left": null
          }
        }
      }
    }
  },
  "cells": [
    {
      "cell_type": "markdown",
      "metadata": {
        "id": "view-in-github",
        "colab_type": "text"
      },
      "source": [
        "<a href=\"https://colab.research.google.com/github/mina0511/AICP_URECORR/blob/main/AICP_RSS_STUDY_1.ipynb\" target=\"_parent\"><img src=\"https://colab.research.google.com/assets/colab-badge.svg\" alt=\"Open In Colab\"/></a>"
      ]
    },
    {
      "cell_type": "code",
      "metadata": {
        "colab": {
          "base_uri": "https://localhost:8080/"
        },
        "id": "dFKNx7ExnzE3",
        "outputId": "11c8178f-5c7a-46fe-8d0e-37e4edf4d37c"
      },
      "source": [
        "!pip install feedparser goose3 beautifulsoup4 tqdm"
      ],
      "execution_count": null,
      "outputs": [
        {
          "output_type": "stream",
          "text": [
            "Requirement already satisfied: feedparser in /usr/local/lib/python3.7/dist-packages (6.0.2)\n",
            "Requirement already satisfied: goose3 in /usr/local/lib/python3.7/dist-packages (3.1.8)\n",
            "Requirement already satisfied: beautifulsoup4 in /usr/local/lib/python3.7/dist-packages (4.6.3)\n",
            "Requirement already satisfied: tqdm in /usr/local/lib/python3.7/dist-packages (4.41.1)\n",
            "Requirement already satisfied: sgmllib3k in /usr/local/lib/python3.7/dist-packages (from feedparser) (1.0.0)\n",
            "Requirement already satisfied: Pillow in /usr/local/lib/python3.7/dist-packages (from goose3) (7.0.0)\n",
            "Requirement already satisfied: nltk in /usr/local/lib/python3.7/dist-packages (from goose3) (3.2.5)\n",
            "Requirement already satisfied: cssselect in /usr/local/lib/python3.7/dist-packages (from goose3) (1.1.0)\n",
            "Requirement already satisfied: requests in /usr/local/lib/python3.7/dist-packages (from goose3) (2.23.0)\n",
            "Requirement already satisfied: python-dateutil in /usr/local/lib/python3.7/dist-packages (from goose3) (2.8.1)\n",
            "Requirement already satisfied: jieba in /usr/local/lib/python3.7/dist-packages (from goose3) (0.42.1)\n",
            "Requirement already satisfied: lxml in /usr/local/lib/python3.7/dist-packages (from goose3) (4.2.6)\n",
            "Requirement already satisfied: six in /usr/local/lib/python3.7/dist-packages (from nltk->goose3) (1.15.0)\n",
            "Requirement already satisfied: certifi>=2017.4.17 in /usr/local/lib/python3.7/dist-packages (from requests->goose3) (2020.12.5)\n",
            "Requirement already satisfied: idna<3,>=2.5 in /usr/local/lib/python3.7/dist-packages (from requests->goose3) (2.10)\n",
            "Requirement already satisfied: urllib3!=1.25.0,!=1.25.1,<1.26,>=1.21.1 in /usr/local/lib/python3.7/dist-packages (from requests->goose3) (1.24.3)\n",
            "Requirement already satisfied: chardet<4,>=3.0.2 in /usr/local/lib/python3.7/dist-packages (from requests->goose3) (3.0.4)\n"
          ],
          "name": "stdout"
        }
      ]
    },
    {
      "cell_type": "code",
      "metadata": {
        "id": "8HDj_eTvn3BV"
      },
      "source": [
        "import pandas as pd #pandas 객체 처리\n",
        "import feedparser \n",
        "import requests #웹 소켓 통신\n",
        "from goose3 import Goose \n",
        "from goose3.text import StopWordsKorean\n",
        "from bs4 import BeautifulSoup #마크업 언어 파싱\n",
        "from tqdm.notebook import tqdm #상태 바 표시"
      ],
      "execution_count": null,
      "outputs": []
    },
    {
      "cell_type": "code",
      "metadata": {
        "colab": {
          "base_uri": "https://localhost:8080/"
        },
        "id": "X9jGVURvn6NQ",
        "outputId": "70e7869c-d390-4b99-9818-e200e2e67a2a"
      },
      "source": [
        "rss_df = pd.read_pickle('rss_list.pkl')\n",
        "print(rss_df.head())"
      ],
      "execution_count": null,
      "outputs": [
        {
          "output_type": "stream",
          "text": [
            "    corp          name                                                url\n",
            "34  조선닷컴  [뉴스]오늘의 주요뉴스   http://myhome.chosun.com/rss/www_section_rss.xml\n",
            "35  조선닷컴        [뉴스]정치   http://www.chosun.com/site/data/rss/politics.xml\n",
            "36  조선닷컴        [뉴스]국제  http://www.chosun.com/site/data/rss/internatio...\n",
            "37  조선닷컴        [뉴스]문화    http://www.chosun.com/site/data/rss/culture.xml\n",
            "38  조선닷컴     [뉴스]사설ㆍ칼럼  http://www.chosun.com/site/data/rss/editorials...\n"
          ],
          "name": "stdout"
        }
      ]
    },
    {
      "cell_type": "code",
      "metadata": {
        "colab": {
          "base_uri": "https://localhost:8080/"
        },
        "id": "djSCNpCQoGCA",
        "outputId": "fa86f1c1-ab4c-4a34-8524-e7c80454db7b"
      },
      "source": [
        "len(rss_df)"
      ],
      "execution_count": null,
      "outputs": [
        {
          "output_type": "execute_result",
          "data": {
            "text/plain": [
              "188"
            ]
          },
          "metadata": {
            "tags": []
          },
          "execution_count": 5
        }
      ]
    },
    {
      "cell_type": "code",
      "metadata": {
        "colab": {
          "base_uri": "https://localhost:8080/"
        },
        "id": "MLdwwnVzoI_S",
        "outputId": "1835d61c-8a3a-4833-b111-443efb8377d4"
      },
      "source": [
        "sources = rss_df.corp.unique() # unique 함수: 주어진NumPy 배열의 모든 고유 값을 검색하고 이러한 고유 값을 정렬\n",
        "sources"
      ],
      "execution_count": null,
      "outputs": [
        {
          "output_type": "execute_result",
          "data": {
            "text/plain": [
              "array(['조선닷컴', '노컷뉴스', '동아닷컴', '세계일보', '매일경제', '경향닷컴', '한국아이닷컴', '파이낸셜뉴스',\n",
              "       '헤럴드경제', '데이터넷', '탑라이더', '뉴스포스트', '뉴스데일리', '에버뉴스', '주간포커스', '다음뉴스',\n",
              "       '구글뉴스', '중부매일', '르몽드 디플로마티크'], dtype=object)"
            ]
          },
          "metadata": {
            "tags": []
          },
          "execution_count": 6
        }
      ]
    },
    {
      "cell_type": "code",
      "metadata": {
        "id": "PXpHyqEJoLCZ"
      },
      "source": [
        "def get_data(url):\n",
        "    try:\n",
        "        res = requests.get(url)\n",
        "        html = res.text\n",
        "        data = feedparser.parse(html)\n",
        "        print(data.feed.title)\n",
        "        return data\n",
        "    except:\n",
        "        return None"
      ],
      "execution_count": null,
      "outputs": []
    },
    {
      "cell_type": "code",
      "metadata": {
        "colab": {
          "base_uri": "https://localhost:8080/",
          "height": 104,
          "referenced_widgets": [
            "1c57ec1d0cf04e4f8214bd0e49f3c6e4",
            "8d1fb8c502314ffe9f712c7e7abd7b57",
            "e0c5ddc0b578444bbe995032f1f51c72",
            "43bc5cd5d1f24ed59b9066e6e23c0da9",
            "891eeb9b74534c9396a408f405b7ebef",
            "f8afca82d07f470aa851e98370835fab",
            "40ba1ede64dd4aecbaa83af76f254fb3",
            "92042a0b3dd644e08933b3622d7c7776"
          ]
        },
        "id": "Ei2aIdpjoL2v",
        "outputId": "ce284e0d-479d-4dac-c870-61cdd909e875"
      },
      "source": [
        "import re #정규표현식 모듈\n",
        "txt = '>2021' #target 텍스트\n",
        "p = re.compile(txt) #정규식 컴파일\n",
        "url_list = [] #url 목록이 저장될 리스트\n",
        "\n",
        "for url in tqdm(rss_df['url']): #rss_df에서 url을 모두 추출\n",
        "  try:\n",
        "    if (p.search(requests.get(url).text)) != None: #정규식과 일치하는 문자가 있을 경우\n",
        "      url_list.append(url) #url 리스트에 추가\n",
        "  except:\n",
        "    pass\n",
        "print(url_list)"
      ],
      "execution_count": null,
      "outputs": [
        {
          "output_type": "display_data",
          "data": {
            "application/vnd.jupyter.widget-view+json": {
              "model_id": "1c57ec1d0cf04e4f8214bd0e49f3c6e4",
              "version_minor": 0,
              "version_major": 2
            },
            "text/plain": [
              "HBox(children=(FloatProgress(value=0.0, max=188.0), HTML(value='')))"
            ]
          },
          "metadata": {
            "tags": []
          }
        },
        {
          "output_type": "stream",
          "text": [
            "\n",
            "['http://www.chosun.com/site/data/rss/politics.xml', 'http://www.chosun.com/site/data/rss/international.xml', 'http://www.chosun.com/site/data/rss/culture.xml', 'http://www.chosun.com/site/data/rss/editorials.xml', 'http://biz.chosun.com/site/data/rss/rss.xml', 'http://biz.chosun.com/site/data/rss/news.xml', 'http://biz.chosun.com/site/data/rss/market.xml', 'http://biz.chosun.com/site/data/rss/estate.xml', 'http://www.chosun.com/site/data/rss/sports.xml', 'http://www.chosun.com/site/data/rss/ent.xml', 'http://health.chosun.com/site/data/rss/rss.xml', 'http://careview.chosun.com/site/data/rss/rss.xml', 'http://art.chosun.com/site/data/rss/rss.xml', 'http://health.chosun.com/rss/column.xml', 'http://rss.donga.com/economy.xml', 'http://rss.donga.com/sports.xml', 'http://rss.donga.com/sportsdonga/golf.xml', 'http://file.mk.co.kr/news/rss/rss_30000001.xml', 'http://file.mk.co.kr/news/rss/rss_30000023.xml', 'http://file.mk.co.kr/news/rss/rss_40300001.xml', 'http://file.mk.co.kr/news/rss/rss_30100041.xml', 'http://file.mk.co.kr/news/rss/rss_50700001.xml', 'http://file.mk.co.kr/news/rss/rss_30200030.xml', 'http://file.mk.co.kr/news/rss/rss_30500041.xml', 'http://file.mk.co.kr/news/rss/rss_50400012.xml', 'http://file.mk.co.kr/news/rss/rss_30300018.xml', 'http://file.mk.co.kr/news/rss/rss_50100032.xml', 'http://file.mk.co.kr/news/rss/rss_50200011.xml', 'http://file.mk.co.kr/news/rss/rss_50300009.xml', 'http://file.mk.co.kr/news/rss/rss_40200124.xml', 'http://file.mk.co.kr/news/rss/rss_40200003.xml', 'http://file.mk.co.kr/news/rss/rss_30800011.xml', 'http://file.mk.co.kr/news/rss/rss_50000001.xml', 'http://file.mk.co.kr/news/rss/rss_60000007.xml', 'http://www.khan.co.kr/rss/rssdata/total_news.xml', 'http://www.khan.co.kr/rss/rssdata/kh_sports.xml', 'http://www.khan.co.kr/rss/rssdata/kh_entertainment.xml', 'http://biz.heraldm.com/rss/010000000000.xml', 'http://biz.heraldm.com/rss/010100000000.xml', 'http://biz.heraldm.com/rss/010104000000.xml', 'http://biz.heraldm.com/rss/010108000000.xml', 'http://biz.heraldm.com/rss/010109000000.xml', 'http://biz.heraldm.com/rss/010107000000.xml', 'http://biz.heraldm.com/rss/010106000000.xml', 'http://biz.heraldm.com/rss/010110000000.xml', 'http://biz.heraldm.com/rss/010103000000.xml', 'http://biz.heraldm.com/rss/010300000000.xml', 'http://biz.heraldm.com/rss/010301000000.xml', 'http://biz.heraldm.com/rss/010303000000.xml', 'http://biz.heraldm.com/rss/010306000000.xml', 'http://biz.heraldm.com/rss/010400000000.xml', 'http://biz.heraldm.com/rss/010403000000.xml', 'http://biz.heraldm.com/rss/010404000000.xml', 'http://biz.heraldm.com/rss/010410000000.xml', 'http://biz.heraldm.com/rss/010500000000.xml', 'http://biz.heraldm.com/rss/010501000000.xml', 'http://biz.heraldm.com/rss/010505000000.xml', 'http://biz.heraldm.com/rss/010506000000.xml', 'http://biz.heraldm.com/rss/010504000000.xml', 'http://biz.heraldm.com/rss/010503000000.xml', 'http://www.datanet.co.kr/rss/allArticle.xml', 'http://www.datanet.co.kr/rss/clickTop.xml', 'http://www.top-rider.com/rss/allArticle.xml', 'http://www.top-rider.com/rss/clickTop.xml', 'http://www.newspost.kr/rss/allArticle.xml', 'http://www.newspost.kr/rss/clickTop.xml', 'http://www.newsdaily.kr/rss/allArticle.xml', 'http://www.newsdaily.kr/rss/clickTop.xml', 'http://www.newsdaily.kr/rss/S1N1.xml', 'http://www.newsdaily.kr/rss/S1N2.xml', 'http://www.newsdaily.kr/rss/S1N30.xml', 'http://www.newsdaily.kr/rss/S1N38.xml', 'http://www.newsdaily.kr/rss/S1N39.xml', 'http://www.newsdaily.kr/rss/S1N40.xml', 'http://www.newsdaily.kr/rss/S1N46.xml', 'http://www.newsdaily.kr/rss/S1N49.xml', 'http://www.newsdaily.kr/rss/S1N51.xml', 'http://www.evernews.co.kr/rss/allArticle.xml', 'http://www.evernews.co.kr/rss/clickTop.xml', 'http://www.evernews.co.kr/rss/S1N2.xml', 'http://www.evernews.co.kr/rss/S1N4.xml', 'http://www.evernews.co.kr/rss/S1N5.xml', 'http://www.evernews.co.kr/rss/S1N9.xml', 'http://www.evernews.co.kr/rss/S1N11.xml', 'http://www.evernews.co.kr/rss/S1N12.xml', 'http://www.focuscolorado.net/rss/allArticle.xml', 'http://www.focuscolorado.net/rss/S1N1.xml', 'http://www.focuscolorado.net/rss/S1N2.xml', 'http://www.focuscolorado.net/rss/S1N3.xml', 'http://www.focuscolorado.net/rss/S1N4.xml', 'http://www.focuscolorado.net/rss/S1N7.xml', 'http://news.google.co.kr/news?pz=1&cf=all&ned=kr&hl=ko&output=rss', 'http://www.jbnews.com/rss/allArticle.xml', 'http://www.jbnews.com/rss/clickTop.xml', 'http://www.ilemonde.com/rss/allArticle.xml', 'http://www.ilemonde.com/rss/clickTop.xml']\n"
          ],
          "name": "stdout"
        }
      ]
    },
    {
      "cell_type": "code",
      "metadata": {
        "id": "UIScv-kmoQ4b"
      },
      "source": [
        "news_list = [] #뉴스 링크가 저장될 리스트\n",
        "\n",
        "for url in tqdm(url_list): #url 리스트에서 모든 url을 가져옴\n",
        "  try:  #에러가 일어날 경우 pass\n",
        "    xml = requests.get(url).text.replace('link', 'aicp') #GET 요청으로 XML을 가져온 뒤, link 태그를 aicp로 변경\n",
        "    soup =  BeautifulSoup(xml, 'html.parser') #BeautifulSoup 객체 생성\n",
        "    item_list = soup.find_all('item') #item 태그를 포함한 모든 객체를 리스트 형태로 가져옴\n",
        "    for item in item_list: #item_list 에서 각 item을 가져옴\n",
        "      news_list.extend([news.get_text() for news in item.find_all('aicp')]) #item 태그 하위의 모든 aicp 태그를 추출해 aicp 태그 사이의 url 추출\n",
        "  except:\n",
        "    print(url, 'is not valid url')\n",
        "    pass"
      ],
      "execution_count": null,
      "outputs": []
    },
    {
      "cell_type": "code",
      "metadata": {
        "colab": {
          "base_uri": "https://localhost:8080/",
          "height": 104,
          "referenced_widgets": [
            "e84c6d006b8f4d908d6be98367065d68",
            "38db20b68e5f478e814942f2974df44f",
            "6fcbdfc1f45546f0862dd988e4f0f67c",
            "10a64725746d484dbdcc116610f2e0a8",
            "c4f2ee1963c64196bc0299730e08a078",
            "0482fa11bd084711b45a437d925f68d4",
            "b1007662a40f401cb6a2b1bae474b6d1",
            "909b339e7e4443f3ab0500ff181038de"
          ]
        },
        "id": "IKz8cyWLsGUF",
        "outputId": "1a79aacc-94f9-4b1d-8914-13b2baa641c4"
      },
      "source": [
        "import re\n",
        "txt = '삼성전자'\n",
        "p = re.compile(txt)\n",
        "samsung_url_list = []\n",
        "\n",
        "for url in tqdm(news_list):\n",
        "  try:\n",
        "    if (p.search(requests.get(url).text)) != None: \n",
        "      samsung_url_list.append(url)\n",
        "  except:\n",
        "    pass\n",
        "print(samsung_url_list)"
      ],
      "execution_count": null,
      "outputs": [
        {
          "output_type": "display_data",
          "data": {
            "application/vnd.jupyter.widget-view+json": {
              "model_id": "e84c6d006b8f4d908d6be98367065d68",
              "version_minor": 0,
              "version_major": 2
            },
            "text/plain": [
              "HBox(children=(FloatProgress(value=0.0, max=3176.0), HTML(value='')))"
            ]
          },
          "metadata": {
            "tags": []
          }
        },
        {
          "output_type": "stream",
          "text": [
            "\n",
            "['https://www.donga.com/news/It/article/all/20210323/106036024/1', 'https://www.donga.com/news/Economy/article/all/20210323/106029295/1', 'https://www.donga.com/news/Economy/article/all/20210323/106027916/1', 'https://www.donga.com/news/Society/article/all/20210323/106026262/1', 'http://view.koreaherald.com/kh/view.php?ud=20210323000756', 'http://view.koreaherald.com/kh/view.php?ud=20210323000722', 'http://view.koreaherald.com/kh/view.php?ud=20210323000710', 'http://view.koreaherald.com/kh/view.php?ud=20210323000703', 'http://view.koreaherald.com/kh/view.php?ud=20210323000694', 'http://view.koreaherald.com/kh/view.php?ud=20210323000528', 'http://view.koreaherald.com/kh/view.php?ud=20210323000516', 'http://view.koreaherald.com/kh/view.php?ud=20210316000593', 'http://www.datanet.co.kr/news/articleView.html?idxno=157523', 'http://www.datanet.co.kr/news/articleView.html?idxno=157482', 'http://www.newspost.kr/news/articleView.html?idxno=92616', 'http://www.newsdaily.kr/news/articleView.html?idxno=205973']\n"
          ],
          "name": "stdout"
        }
      ]
    }
  ]
}